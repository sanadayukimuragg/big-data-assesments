{
 "cells": [
  {
   "cell_type": "markdown",
   "metadata": {},
   "source": [
    "# Student Assessment Dataset Analysis\n",
    "\n",
    "## Introduction\n",
    "\n",
    "This Jupyter Notebook contains code for preprocessing and analyzing a student assessment dataset. The dataset includes the following columns:\n",
    "\n",
    "- `id_assessment`: Identifier for each assessment.\n",
    "- `id_student`: Identifier for each student.\n",
    "- `date_submitted`: The date of student submission, measured as the number of days since the start of the module presentation.\n",
    "- `is_banked`: A status flag indicating that the assessment result has been transferred from a previous presentation.\n",
    "- `score`: The assessment score.\n"
   ]
  },
  {
   "cell_type": "markdown",
   "metadata": {},
   "source": [
    "## set up and data loading"
   ]
  },
  {
   "cell_type": "code",
   "execution_count": 12,
   "metadata": {},
   "outputs": [
    {
     "data": {
      "text/html": [
       "<div>\n",
       "<style scoped>\n",
       "    .dataframe tbody tr th:only-of-type {\n",
       "        vertical-align: middle;\n",
       "    }\n",
       "\n",
       "    .dataframe tbody tr th {\n",
       "        vertical-align: top;\n",
       "    }\n",
       "\n",
       "    .dataframe thead th {\n",
       "        text-align: right;\n",
       "    }\n",
       "</style>\n",
       "<table border=\"1\" class=\"dataframe\">\n",
       "  <thead>\n",
       "    <tr style=\"text-align: right;\">\n",
       "      <th></th>\n",
       "      <th>id_assessment</th>\n",
       "      <th>id_student</th>\n",
       "      <th>date_submitted</th>\n",
       "      <th>is_banked</th>\n",
       "      <th>score</th>\n",
       "    </tr>\n",
       "  </thead>\n",
       "  <tbody>\n",
       "    <tr>\n",
       "      <th>173909</th>\n",
       "      <td>37443</td>\n",
       "      <td>546286</td>\n",
       "      <td>215</td>\n",
       "      <td>0</td>\n",
       "      <td>80.0</td>\n",
       "    </tr>\n",
       "    <tr>\n",
       "      <th>173910</th>\n",
       "      <td>37443</td>\n",
       "      <td>546724</td>\n",
       "      <td>230</td>\n",
       "      <td>0</td>\n",
       "      <td>100.0</td>\n",
       "    </tr>\n",
       "    <tr>\n",
       "      <th>173911</th>\n",
       "      <td>37443</td>\n",
       "      <td>558486</td>\n",
       "      <td>224</td>\n",
       "      <td>0</td>\n",
       "      <td>80.0</td>\n",
       "    </tr>\n",
       "  </tbody>\n",
       "</table>\n",
       "</div>"
      ],
      "text/plain": [
       "        id_assessment  id_student  date_submitted  is_banked  score\n",
       "173909          37443      546286             215          0   80.0\n",
       "173910          37443      546724             230          0  100.0\n",
       "173911          37443      558486             224          0   80.0"
      ]
     },
     "execution_count": 12,
     "metadata": {},
     "output_type": "execute_result"
    }
   ],
   "source": [
    "import numpy as np\n",
    "import pandas as pd\n",
    "import seaborn as sns\n",
    "import matplotlib.pyplot as plt\n",
    "\n",
    "data = pd.read_csv(\"studentAssessment.csv\")\n",
    "data.tail(3)"
   ]
  },
  {
   "cell_type": "markdown",
   "metadata": {},
   "source": [
    "## Data Exploration"
   ]
  },
  {
   "cell_type": "markdown",
   "metadata": {},
   "source": [
    "Basic Information"
   ]
  },
  {
   "cell_type": "code",
   "execution_count": 13,
   "metadata": {},
   "outputs": [
    {
     "name": "stdout",
     "output_type": "stream",
     "text": [
      "<class 'pandas.core.frame.DataFrame'>\n",
      "RangeIndex: 173912 entries, 0 to 173911\n",
      "Data columns (total 5 columns):\n",
      " #   Column          Non-Null Count   Dtype  \n",
      "---  ------          --------------   -----  \n",
      " 0   id_assessment   173912 non-null  int64  \n",
      " 1   id_student      173912 non-null  int64  \n",
      " 2   date_submitted  173912 non-null  int64  \n",
      " 3   is_banked       173912 non-null  int64  \n",
      " 4   score           173739 non-null  float64\n",
      "dtypes: float64(1), int64(4)\n",
      "memory usage: 6.6 MB\n"
     ]
    }
   ],
   "source": [
    "data.info()"
   ]
  },
  {
   "cell_type": "markdown",
   "metadata": {},
   "source": [
    "Summary Statistic"
   ]
  },
  {
   "cell_type": "code",
   "execution_count": 14,
   "metadata": {},
   "outputs": [
    {
     "data": {
      "text/html": [
       "<div>\n",
       "<style scoped>\n",
       "    .dataframe tbody tr th:only-of-type {\n",
       "        vertical-align: middle;\n",
       "    }\n",
       "\n",
       "    .dataframe tbody tr th {\n",
       "        vertical-align: top;\n",
       "    }\n",
       "\n",
       "    .dataframe thead th {\n",
       "        text-align: right;\n",
       "    }\n",
       "</style>\n",
       "<table border=\"1\" class=\"dataframe\">\n",
       "  <thead>\n",
       "    <tr style=\"text-align: right;\">\n",
       "      <th></th>\n",
       "      <th>id_assessment</th>\n",
       "      <th>id_student</th>\n",
       "      <th>date_submitted</th>\n",
       "      <th>is_banked</th>\n",
       "      <th>score</th>\n",
       "    </tr>\n",
       "  </thead>\n",
       "  <tbody>\n",
       "    <tr>\n",
       "      <th>count</th>\n",
       "      <td>173912.000000</td>\n",
       "      <td>1.739120e+05</td>\n",
       "      <td>173912.000000</td>\n",
       "      <td>173912.000000</td>\n",
       "      <td>173739.000000</td>\n",
       "    </tr>\n",
       "    <tr>\n",
       "      <th>mean</th>\n",
       "      <td>26553.803556</td>\n",
       "      <td>7.051507e+05</td>\n",
       "      <td>116.032942</td>\n",
       "      <td>0.010977</td>\n",
       "      <td>75.799573</td>\n",
       "    </tr>\n",
       "    <tr>\n",
       "      <th>std</th>\n",
       "      <td>8829.784254</td>\n",
       "      <td>5.523952e+05</td>\n",
       "      <td>71.484148</td>\n",
       "      <td>0.104194</td>\n",
       "      <td>18.798107</td>\n",
       "    </tr>\n",
       "    <tr>\n",
       "      <th>min</th>\n",
       "      <td>1752.000000</td>\n",
       "      <td>6.516000e+03</td>\n",
       "      <td>-11.000000</td>\n",
       "      <td>0.000000</td>\n",
       "      <td>0.000000</td>\n",
       "    </tr>\n",
       "    <tr>\n",
       "      <th>25%</th>\n",
       "      <td>15022.000000</td>\n",
       "      <td>5.044290e+05</td>\n",
       "      <td>51.000000</td>\n",
       "      <td>0.000000</td>\n",
       "      <td>65.000000</td>\n",
       "    </tr>\n",
       "    <tr>\n",
       "      <th>50%</th>\n",
       "      <td>25359.000000</td>\n",
       "      <td>5.852080e+05</td>\n",
       "      <td>116.000000</td>\n",
       "      <td>0.000000</td>\n",
       "      <td>80.000000</td>\n",
       "    </tr>\n",
       "    <tr>\n",
       "      <th>75%</th>\n",
       "      <td>34883.000000</td>\n",
       "      <td>6.344980e+05</td>\n",
       "      <td>173.000000</td>\n",
       "      <td>0.000000</td>\n",
       "      <td>90.000000</td>\n",
       "    </tr>\n",
       "    <tr>\n",
       "      <th>max</th>\n",
       "      <td>37443.000000</td>\n",
       "      <td>2.698588e+06</td>\n",
       "      <td>608.000000</td>\n",
       "      <td>1.000000</td>\n",
       "      <td>100.000000</td>\n",
       "    </tr>\n",
       "  </tbody>\n",
       "</table>\n",
       "</div>"
      ],
      "text/plain": [
       "       id_assessment    id_student  date_submitted      is_banked  \\\n",
       "count  173912.000000  1.739120e+05   173912.000000  173912.000000   \n",
       "mean    26553.803556  7.051507e+05      116.032942       0.010977   \n",
       "std      8829.784254  5.523952e+05       71.484148       0.104194   \n",
       "min      1752.000000  6.516000e+03      -11.000000       0.000000   \n",
       "25%     15022.000000  5.044290e+05       51.000000       0.000000   \n",
       "50%     25359.000000  5.852080e+05      116.000000       0.000000   \n",
       "75%     34883.000000  6.344980e+05      173.000000       0.000000   \n",
       "max     37443.000000  2.698588e+06      608.000000       1.000000   \n",
       "\n",
       "               score  \n",
       "count  173739.000000  \n",
       "mean       75.799573  \n",
       "std        18.798107  \n",
       "min         0.000000  \n",
       "25%        65.000000  \n",
       "50%        80.000000  \n",
       "75%        90.000000  \n",
       "max       100.000000  "
      ]
     },
     "execution_count": 14,
     "metadata": {},
     "output_type": "execute_result"
    }
   ],
   "source": [
    "data.describe()"
   ]
  },
  {
   "cell_type": "markdown",
   "metadata": {},
   "source": [
    "Missing Values"
   ]
  },
  {
   "cell_type": "code",
   "execution_count": 15,
   "metadata": {},
   "outputs": [
    {
     "name": "stdout",
     "output_type": "stream",
     "text": [
      "id_assessment       0\n",
      "id_student          0\n",
      "date_submitted      0\n",
      "is_banked           0\n",
      "score             173\n",
      "dtype: int64\n"
     ]
    }
   ],
   "source": [
    "print(data.isnull().sum())"
   ]
  },
  {
   "cell_type": "markdown",
   "metadata": {},
   "source": [
    "## EDA and Preprocessing"
   ]
  },
  {
   "cell_type": "markdown",
   "metadata": {},
   "source": [
    "How many students have score less than 70?"
   ]
  },
  {
   "cell_type": "code",
   "execution_count": 16,
   "metadata": {},
   "outputs": [
    {
     "data": {
      "text/plain": [
       "id_assessment     53133\n",
       "id_student        53133\n",
       "date_submitted    53133\n",
       "is_banked         53133\n",
       "score             53133\n",
       "dtype: int64"
      ]
     },
     "execution_count": 16,
     "metadata": {},
     "output_type": "execute_result"
    }
   ],
   "source": [
    "data[data['score']<70].count()"
   ]
  },
  {
   "cell_type": "markdown",
   "metadata": {},
   "source": [
    "how many the minimum and maximum score student got ?"
   ]
  },
  {
   "cell_type": "code",
   "execution_count": 17,
   "metadata": {},
   "outputs": [
    {
     "name": "stdout",
     "output_type": "stream",
     "text": [
      "Minimum value in score column: 0.0\n",
      "Maximum value in score column: 100.0\n"
     ]
    }
   ],
   "source": [
    "# menemunkan nilai tertingi dan terendah dalam kolom score\n",
    "min_value = data['score'].min()\n",
    "max_value = data['score'].max()\n",
    "\n",
    "print(f\"Minimum value in score column: {min_value}\")\n",
    "print(f\"Maximum value in score column: {max_value}\")"
   ]
  },
  {
   "cell_type": "markdown",
   "metadata": {},
   "source": [
    "what the minimum and maximum assesment date submitted since the start of the module presentation."
   ]
  },
  {
   "cell_type": "code",
   "execution_count": 18,
   "metadata": {},
   "outputs": [
    {
     "name": "stdout",
     "output_type": "stream",
     "text": [
      "Minimum value in score column: -11\n",
      "Maximum value in score column: 608\n"
     ]
    }
   ],
   "source": [
    "# menemunkan nilai tertingi dan terendah di kolom date submitted\n",
    "min_value = data['date_submitted'].min()\n",
    "max_value = data['date_submitted'].max()\n",
    "\n",
    "print(f\"Minimum value in score column: {min_value}\")\n",
    "print(f\"Maximum value in score column: {max_value}\")"
   ]
  },
  {
   "cell_type": "markdown",
   "metadata": {},
   "source": [
    "fill missing value with 0"
   ]
  },
  {
   "cell_type": "code",
   "execution_count": 19,
   "metadata": {},
   "outputs": [],
   "source": [
    "data['score'].fillna(0, inplace=True)"
   ]
  },
  {
   "cell_type": "markdown",
   "metadata": {},
   "source": [
    "## Visualization"
   ]
  },
  {
   "cell_type": "code",
   "execution_count": 20,
   "metadata": {},
   "outputs": [
    {
     "data": {
      "image/png": "[encoded data removed]",
      "text/plain": [
       "<Figure size 576x432 with 1 Axes>"
      ]
     },
     "metadata": {
      "needs_background": "light"
     },
     "output_type": "display_data"
    }
   ],
   "source": [
    "\n",
    "# Create a histogram to visualize the distribution of scores\n",
    "plt.figure(figsize=(8, 6))  # Set the size of the plot\n",
    "sns.histplot(data['score'], bins=10, kde=True, color='skyblue')  # Create the histogram\n",
    "plt.title('Distribution of Scores')  # Add a title\n",
    "plt.xlabel('Score')  # Label the x-axis\n",
    "plt.ylabel('Frequency')  # Label the y-axis\n",
    "plt.show()  # Display the plot"
   ]
  },
  {
   "cell_type": "code",
   "execution_count": 23,
   "metadata": {},
   "outputs": [
    {
     "data": {
      "image/png": "[encoded data removed]",
      "text/plain": [
       "<Figure size 432x288 with 1 Axes>"
      ]
     },
     "metadata": {
      "needs_background": "light"
     },
     "output_type": "display_data"
    }
   ],
   "source": [
    "# Checking the distribution of 'is_banked' values\n",
    "data['is_banked'].value_counts().plot(kind='bar', color='lightcoral')\n",
    "plt.title('Distribution of is_banked Status')\n",
    "plt.xlabel('is_banked')\n",
    "plt.ylabel('Count')\n",
    "plt.show()"
   ]
  }
 ],
 "metadata": {
  "kernelspec": {
   "display_name": "base",
   "language": "python",
   "name": "python3"
  },
  "language_info": {
   "codemirror_mode": {
    "name": "ipython",
    "version": 3
   },
   "file_extension": ".py",
   "mimetype": "text/x-python",
   "name": "python",
   "nbconvert_exporter": "python",
   "pygments_lexer": "ipython3",
   "version": "3.9.12"
  },
  "orig_nbformat": 4
 },
 "nbformat": 4,
 "nbformat_minor": 2
}
